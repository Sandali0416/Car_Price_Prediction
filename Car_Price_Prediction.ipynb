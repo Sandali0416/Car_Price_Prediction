{
  "nbformat": 4,
  "nbformat_minor": 0,
  "metadata": {
    "colab": {
      "provenance": []
    },
    "kernelspec": {
      "name": "python3",
      "display_name": "Python 3"
    },
    "language_info": {
      "name": "python"
    }
  },
  "cells": [
    {
      "cell_type": "code",
      "execution_count": 8,
      "metadata": {
        "id": "Nf8YTt3OWmEa"
      },
      "outputs": [],
      "source": [
        "# Import Libraries\n",
        "import pandas as pd\n",
        "import numpy as np\n",
        "from sklearn.model_selection import train_test_split\n",
        "from sklearn.ensemble import RandomForestRegressor\n",
        "from sklearn.metrics import mean_absolute_error, r2_score\n",
        "import matplotlib.pyplot as plt\n",
        "import pickle\n",
        "import os"
      ]
    },
    {
      "cell_type": "code",
      "source": [
        "# Load the Dataset\n",
        "file_path = r\"/content/car data.csv\"  # Replace with your dataset file path\n",
        "data = pd.read_csv(file_path)"
      ],
      "metadata": {
        "id": "c7wqmKrkXCF1"
      },
      "execution_count": 9,
      "outputs": []
    },
    {
      "cell_type": "code",
      "source": [
        "# Display Dataset Info\n",
        "print(\"First 5 rows of the dataset:\")\n",
        "print(data.head())\n",
        "print(\"\\nDataset Information:\")\n",
        "print(data.info())"
      ],
      "metadata": {
        "colab": {
          "base_uri": "https://localhost:8080/"
        },
        "id": "OeG85VOhXLRH",
        "outputId": "dff10e83-5af4-4277-988d-7f3228c6f92a"
      },
      "execution_count": 10,
      "outputs": [
        {
          "output_type": "stream",
          "name": "stdout",
          "text": [
            "First 5 rows of the dataset:\n",
            "  Car_Name  Year  Selling_Price  Present_Price  Driven_kms Fuel_Type  \\\n",
            "0     ritz  2014           3.35           5.59       27000    Petrol   \n",
            "1      sx4  2013           4.75           9.54       43000    Diesel   \n",
            "2     ciaz  2017           7.25           9.85        6900    Petrol   \n",
            "3  wagon r  2011           2.85           4.15        5200    Petrol   \n",
            "4    swift  2014           4.60           6.87       42450    Diesel   \n",
            "\n",
            "  Selling_type Transmission  Owner  \n",
            "0       Dealer       Manual      0  \n",
            "1       Dealer       Manual      0  \n",
            "2       Dealer       Manual      0  \n",
            "3       Dealer       Manual      0  \n",
            "4       Dealer       Manual      0  \n",
            "\n",
            "Dataset Information:\n",
            "<class 'pandas.core.frame.DataFrame'>\n",
            "RangeIndex: 301 entries, 0 to 300\n",
            "Data columns (total 9 columns):\n",
            " #   Column         Non-Null Count  Dtype  \n",
            "---  ------         --------------  -----  \n",
            " 0   Car_Name       301 non-null    object \n",
            " 1   Year           301 non-null    int64  \n",
            " 2   Selling_Price  301 non-null    float64\n",
            " 3   Present_Price  301 non-null    float64\n",
            " 4   Driven_kms     301 non-null    int64  \n",
            " 5   Fuel_Type      301 non-null    object \n",
            " 6   Selling_type   301 non-null    object \n",
            " 7   Transmission   301 non-null    object \n",
            " 8   Owner          301 non-null    int64  \n",
            "dtypes: float64(2), int64(3), object(4)\n",
            "memory usage: 21.3+ KB\n",
            "None\n"
          ]
        }
      ]
    },
    {
      "cell_type": "code",
      "source": [
        "# Feature Engineering\n",
        "# Calculate car age\n",
        "current_year = 2025\n",
        "data['Age'] = current_year - data['Year']\n",
        "data = data.drop(['Year', 'Car_Name'], axis=1)"
      ],
      "metadata": {
        "id": "Wsb_fufwXRRN"
      },
      "execution_count": 11,
      "outputs": []
    },
    {
      "cell_type": "code",
      "source": [
        "# Convert Categorical Variables to Numerical (One-Hot Encoding)\n",
        "data = pd.get_dummies(data, columns=['Fuel_Type', 'Selling_type', 'Transmission'], drop_first=True)"
      ],
      "metadata": {
        "id": "w1yPxQO2XWJO"
      },
      "execution_count": 12,
      "outputs": []
    },
    {
      "cell_type": "code",
      "source": [
        "# Define Features and Target\n",
        "X = data.drop(['Selling_Price'], axis=1)\n",
        "y = data['Selling_Price']"
      ],
      "metadata": {
        "id": "X5NjJB_mXZtW"
      },
      "execution_count": 15,
      "outputs": []
    },
    {
      "cell_type": "code",
      "source": [
        "# Train-Test Split\n",
        "X_train, X_test, y_train, y_test = train_test_split(X, y, test_size=0.2, random_state=42)"
      ],
      "metadata": {
        "id": "RUnuoo7qXct5"
      },
      "execution_count": 16,
      "outputs": []
    },
    {
      "cell_type": "code",
      "source": [
        "# Train Random Forest Model\n",
        "rf_model = RandomForestRegressor(n_estimators=100, random_state=42)\n",
        "rf_model.fit(X_train, y_train)\n",
        "rf_y_pred = rf_model.predict(X_test)"
      ],
      "metadata": {
        "id": "6BWLWdzFXf3c"
      },
      "execution_count": 17,
      "outputs": []
    },
    {
      "cell_type": "code",
      "source": [
        "# Save Random Forest Model using pickle\n",
        "models_dir = r\"C:\\Users\\TEMP\\Desktop\\New folder\"\n",
        "if not os.path.exists(models_dir):\n",
        "    os.makedirs(models_dir)\n",
        "\n",
        "rf_model_path = os.path.join(models_dir, \"random_forest_model.pkl\")\n",
        "\n",
        "with open(rf_model_path, 'wb') as f:\n",
        "    pickle.dump(rf_model, f)\n",
        "\n",
        "print(f\"\\nRandom Forest Model saved successfully: {rf_model_path}\")"
      ],
      "metadata": {
        "colab": {
          "base_uri": "https://localhost:8080/"
        },
        "id": "qud4osjjXiYE",
        "outputId": "1e31ea70-a056-4946-ccd1-d473f46e0b8d"
      },
      "execution_count": 18,
      "outputs": [
        {
          "output_type": "stream",
          "name": "stdout",
          "text": [
            "\n",
            "Random Forest Model saved successfully: C:\\Users\\TEMP\\Desktop\\New folder/random_forest_model.pkl\n"
          ]
        }
      ]
    },
    {
      "cell_type": "code",
      "source": [
        "# Evaluate Random Forest Model\n",
        "rf_mae = mean_absolute_error(y_test, rf_y_pred)\n",
        "rf_r2 = r2_score(y_test, rf_y_pred)\n",
        "\n",
        "print(\"\\nRandom Forest Model Performance:\")\n",
        "print(f\"Mean Absolute Error: {rf_mae}\")\n",
        "print(f\"R-squared: {rf_r2}\")"
      ],
      "metadata": {
        "colab": {
          "base_uri": "https://localhost:8080/"
        },
        "id": "Ry7UsPCJXlC2",
        "outputId": "638eae56-1e62-402b-f342-f16263a0a6ba"
      },
      "execution_count": 19,
      "outputs": [
        {
          "output_type": "stream",
          "name": "stdout",
          "text": [
            "\n",
            "Random Forest Model Performance:\n",
            "Mean Absolute Error: 0.6368655737704919\n",
            "R-squared: 0.9594566919773236\n"
          ]
        }
      ]
    },
    {
      "cell_type": "code",
      "source": [
        "# Visualize Predictions\n",
        "plt.figure(figsize=(8, 6))\n",
        "plt.scatter(y_test, rf_y_pred, alpha=0.5, color='green')\n",
        "plt.plot([y_test.min(), y_test.max()], [y_test.min(), y_test.max()], 'k--', lw=2, color='red')\n",
        "plt.xlabel('Actual Selling Price')\n",
        "plt.ylabel('Predicted Selling Price')\n",
        "plt.title('Random Forest: Actual vs Predicted')"
      ],
      "metadata": {
        "colab": {
          "base_uri": "https://localhost:8080/",
          "height": 636
        },
        "id": "jmDhfaGSXnj6",
        "outputId": "5f58ca29-b478-4aa2-9898-69c187a3e3bf"
      },
      "execution_count": 20,
      "outputs": [
        {
          "output_type": "stream",
          "name": "stderr",
          "text": [
            "<ipython-input-20-85115e6c3fc3>:4: UserWarning: color is redundantly defined by the 'color' keyword argument and the fmt string \"k--\" (-> color='k'). The keyword argument will take precedence.\n",
            "  plt.plot([y_test.min(), y_test.max()], [y_test.min(), y_test.max()], 'k--', lw=2, color='red')\n"
          ]
        },
        {
          "output_type": "execute_result",
          "data": {
            "text/plain": [
              "Text(0.5, 1.0, 'Random Forest: Actual vs Predicted')"
            ]
          },
          "metadata": {},
          "execution_count": 20
        },
        {
          "output_type": "display_data",
          "data": {
            "text/plain": [
              "<Figure size 800x600 with 1 Axes>"
            ],
            "image/png": "[encoded data removed]"
          },
          "metadata": {}
        }
      ]
    },
    {
      "cell_type": "code",
      "source": [
        "# Display R² score on the plot\n",
        "plt.text(0.05, 0.95, f\"R²: {rf_r2:.2f}\", fontsize=12, transform=plt.gca().transAxes, color='black', bbox=dict(facecolor='white', edgecolor='green'))\n",
        "\n",
        "plt.grid(True)\n",
        "plt.tight_layout()\n",
        "plt.show()"
      ],
      "metadata": {
        "colab": {
          "base_uri": "https://localhost:8080/",
          "height": 487
        },
        "id": "P_pgz50DXp2u",
        "outputId": "d4a1453e-539b-45f7-9f9d-1c970a5f07cd"
      },
      "execution_count": 21,
      "outputs": [
        {
          "output_type": "display_data",
          "data": {
            "text/plain": [
              "<Figure size 640x480 with 1 Axes>"
            ],
            "image/png": "[encoded data removed]"
          },
          "metadata": {}
        }
      ]
    },
    {
      "cell_type": "code",
      "source": [
        "# Example: Predict with loaded Random Forest model\n",
        "print(\"\\nTesting loaded Random Forest model:\")\n",
        "print(f\"Random Forest Prediction (First Test Example): {loaded_rf_model.predict([X_test.iloc[0]])[0]}\")\n",
        "\n",
        "\n",
        "# Predict on Unseen Data\n",
        "unseen_data = pd.DataFrame({\n",
        "    'Present_Price': [5.59, 9.54],\n",
        "    'Driven_kms': [27000, 43000],  # Changed to 'Driven_kms'\n",
        "    'Owner': [0, 0],\n",
        "    'Age': [10, 8],  # Assuming current year is 2025\n",
        "    'Fuel_Type_Diesel': [0, 1],\n",
        "    'Fuel_Type_Petrol': [1, 0],\n",
        "    'Selling_type_Individual': [0, 0],  # Assuming Dealer (1) or Individual (0)\n",
        "    'Transmission_Manual': [1, 0]\n",
        "})\n",
        "\n",
        "# You might need to add a 'Selling_type_Individual' column to unseen_data:\n",
        "# If all examples in unseen_data are 'Selling_type_Dealer' == 1 then\n",
        "# unseen_data['Selling_type_Individual'] = 0\n",
        "\n",
        "# Predict using the loaded model\n",
        "unseen_predictions = loaded_rf_model.predict(unseen_data)\n",
        "\n",
        "# Print predictions\n",
        "for i, prediction in enumerate(unseen_predictions):\n",
        "    print(f\"Unseen Data Example {i+1}: Predicted Selling Price: {prediction}\")"
      ],
      "metadata": {
        "colab": {
          "base_uri": "https://localhost:8080/"
        },
        "id": "7UsjdQ_bXr7Z",
        "outputId": "9eeeda6e-d2ac-4d31-c7c7-20e440e9935f"
      },
      "execution_count": 36,
      "outputs": [
        {
          "output_type": "stream",
          "name": "stdout",
          "text": [
            "\n",
            "Testing loaded Random Forest model:\n",
            "Random Forest Prediction (First Test Example): 0.4438\n",
            "Unseen Data Example 1: Predicted Selling Price: 4.0435000000000025\n",
            "Unseen Data Example 2: Predicted Selling Price: 7.918800000000005\n"
          ]
        },
        {
          "output_type": "stream",
          "name": "stderr",
          "text": [
            "/usr/local/lib/python3.11/dist-packages/sklearn/utils/validation.py:2739: UserWarning: X does not have valid feature names, but RandomForestRegressor was fitted with feature names\n",
            "  warnings.warn(\n"
          ]
        }
      ]
    }
  ]
}